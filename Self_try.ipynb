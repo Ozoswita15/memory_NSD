{
 "cells": [
  {
   "cell_type": "code",
   "execution_count": 2,
   "id": "a62721e5-c0c2-45ce-9aaf-e139954d00ee",
   "metadata": {},
   "outputs": [],
   "source": [
    "from cloudpathlib import S3Client, S3Path\n",
    "from pathlib import Path\n",
    "\n",
    "#Setting up cache path\n",
    "cache_path = Path(\"/home/jovyan/cache/\")\n",
    "if not cache_path.exists():\n",
    "    cache_path.mkdir()\n",
    "\n",
    "#Creating base path for NSD dataset\n",
    "nsd_base_path = S3Path(\n",
    "    's3://natural-scenes-dataset/', \n",
    "    client = S3Client(\n",
    "        no_sign_request = True, \n",
    "        local_cache_dir = cache_path))\n"
   ]
  },
  {
   "cell_type": "code",
   "execution_count": 3,
   "id": "a2a4813c-be5d-44a5-9038-c4ef37f2b0f6",
   "metadata": {},
   "outputs": [
    {
     "data": {
      "text/plain": [
       "(145, 186, 148, 750)"
      ]
     },
     "execution_count": 3,
     "metadata": {},
     "output_type": "execute_result"
    }
   ],
   "source": [
    "import nibabel as nib\n",
    "import numpy as np\n",
    "\n",
    "#Choose subject and session\n",
    "subject = 1\n",
    "session = 1\n",
    "\n",
    "#pass subject and session values to load betas\n",
    "betas_path = nsd_base_path / f\"nsddata_betas/ppdata/subj{subject:02d}/func1mm/betas_fithrf_GLMdenoise_RR/betas_session{session:02d}.nii.gz\"\n",
    "\n",
    "#Load and convert to %signal change ~ dividing by 300\n",
    "img = nib.load(betas_path.fspath)\n",
    "betas_proxy = img.dataobj\n",
    "betas_proxy.shape\n",
    "\n",
    "#If memory permits, uncomment below and comment proxy betas\n",
    "#betas = img.get_fdata(dtype=np.float32) / 300.0\n",
    "#betas.shape\n"
   ]
  },
  {
   "cell_type": "code",
   "execution_count": 4,
   "id": "8d3a5a75-125b-4672-af99-4f9e86556aae",
   "metadata": {},
   "outputs": [
    {
     "data": {
      "text/plain": [
       "(145, 186, 148)"
      ]
     },
     "execution_count": 4,
     "metadata": {},
     "output_type": "execute_result"
    }
   ],
   "source": [
    "#Applying mtl mask\n",
    "mtl_mask_path = nsd_base_path / f\"nsddata/ppdata/subj{subject:02d}/func1mm/roi/MTL.nii.gz\"\n",
    "mtl_mask_img = nib.load(mtl_mask_path.fspath)\n",
    "mtl_mask_img.shape"
   ]
  },
  {
   "cell_type": "code",
   "execution_count": 9,
   "id": "aa70c045-7db6-4ad8-9207-a506ca9fc53b",
   "metadata": {},
   "outputs": [
    {
     "ename": "KeyboardInterrupt",
     "evalue": "",
     "output_type": "error",
     "traceback": [
      "\u001b[0;31m---------------------------------------------------------------------------\u001b[0m",
      "\u001b[0;31mKeyboardInterrupt\u001b[0m                         Traceback (most recent call last)",
      "Cell \u001b[0;32mIn[9], line 11\u001b[0m\n\u001b[1;32m      8\u001b[0m mtl_betas_list \u001b[38;5;241m=\u001b[39m []\n\u001b[1;32m     10\u001b[0m \u001b[38;5;28;01mfor\u001b[39;00m x, y, z \u001b[38;5;129;01min\u001b[39;00m \u001b[38;5;28mzip\u001b[39m(x_idx, y_idx, z_idx):\n\u001b[0;32m---> 11\u001b[0m     voxel_data \u001b[38;5;241m=\u001b[39m np\u001b[38;5;241m.\u001b[39masarray(\u001b[43mbetas_proxy\u001b[49m\u001b[43m[\u001b[49m\u001b[43mx\u001b[49m\u001b[43m,\u001b[49m\u001b[43m \u001b[49m\u001b[43my\u001b[49m\u001b[43m,\u001b[49m\u001b[43m \u001b[49m\u001b[43mz\u001b[49m\u001b[43m,\u001b[49m\u001b[43m \u001b[49m\u001b[43m:\u001b[49m\u001b[43m]\u001b[49m, dtype \u001b[38;5;241m=\u001b[39m np\u001b[38;5;241m.\u001b[39mfloat32) \u001b[38;5;241m/\u001b[39m \u001b[38;5;241m300.0\u001b[39m\n\u001b[1;32m     12\u001b[0m     mtl_betas_list\u001b[38;5;241m.\u001b[39mappend(voxel_data)\n\u001b[1;32m     14\u001b[0m mtl_betas \u001b[38;5;241m=\u001b[39m np\u001b[38;5;241m.\u001b[39mstack(mtl_betas_list, axis \u001b[38;5;241m=\u001b[39m \u001b[38;5;241m1\u001b[39m) \u001b[38;5;66;03m# shape: trial x voxels for intuitive analysis\u001b[39;00m\n",
      "File \u001b[0;32m/srv/conda/envs/notebook/lib/python3.11/site-packages/nibabel/arrayproxy.py:460\u001b[0m, in \u001b[0;36mArrayProxy.__getitem__\u001b[0;34m(self, slicer)\u001b[0m\n\u001b[1;32m    459\u001b[0m \u001b[38;5;28;01mdef\u001b[39;00m\u001b[38;5;250m \u001b[39m\u001b[38;5;21m__getitem__\u001b[39m(\u001b[38;5;28mself\u001b[39m, slicer):\n\u001b[0;32m--> 460\u001b[0m     \u001b[38;5;28;01mreturn\u001b[39;00m \u001b[38;5;28;43mself\u001b[39;49m\u001b[38;5;241;43m.\u001b[39;49m\u001b[43m_get_scaled\u001b[49m\u001b[43m(\u001b[49m\u001b[43mdtype\u001b[49m\u001b[38;5;241;43m=\u001b[39;49m\u001b[38;5;28;43;01mNone\u001b[39;49;00m\u001b[43m,\u001b[49m\u001b[43m \u001b[49m\u001b[43mslicer\u001b[49m\u001b[38;5;241;43m=\u001b[39;49m\u001b[43mslicer\u001b[49m\u001b[43m)\u001b[49m\n",
      "File \u001b[0;32m/srv/conda/envs/notebook/lib/python3.11/site-packages/nibabel/arrayproxy.py:421\u001b[0m, in \u001b[0;36mArrayProxy._get_scaled\u001b[0;34m(self, dtype, slicer)\u001b[0m\n\u001b[1;32m    419\u001b[0m     scl_inter \u001b[38;5;241m=\u001b[39m scl_inter\u001b[38;5;241m.\u001b[39mastype(use_dtype)\n\u001b[1;32m    420\u001b[0m \u001b[38;5;66;03m# Read array and upcast as necessary for big slopes, intercepts\u001b[39;00m\n\u001b[0;32m--> 421\u001b[0m scaled \u001b[38;5;241m=\u001b[39m apply_read_scaling(\u001b[38;5;28;43mself\u001b[39;49m\u001b[38;5;241;43m.\u001b[39;49m\u001b[43m_get_unscaled\u001b[49m\u001b[43m(\u001b[49m\u001b[43mslicer\u001b[49m\u001b[38;5;241;43m=\u001b[39;49m\u001b[43mslicer\u001b[49m\u001b[43m)\u001b[49m, scl_slope, scl_inter)\n\u001b[1;32m    422\u001b[0m \u001b[38;5;28;01mif\u001b[39;00m dtype \u001b[38;5;129;01mis\u001b[39;00m \u001b[38;5;129;01mnot\u001b[39;00m \u001b[38;5;28;01mNone\u001b[39;00m:\n\u001b[1;32m    423\u001b[0m     scaled \u001b[38;5;241m=\u001b[39m scaled\u001b[38;5;241m.\u001b[39mastype(np\u001b[38;5;241m.\u001b[39mpromote_types(scaled\u001b[38;5;241m.\u001b[39mdtype, dtype), copy\u001b[38;5;241m=\u001b[39m\u001b[38;5;28;01mFalse\u001b[39;00m)\n",
      "File \u001b[0;32m/srv/conda/envs/notebook/lib/python3.11/site-packages/nibabel/arrayproxy.py:400\u001b[0m, in \u001b[0;36mArrayProxy._get_unscaled\u001b[0;34m(self, slicer)\u001b[0m\n\u001b[1;32m    391\u001b[0m         \u001b[38;5;28;01mreturn\u001b[39;00m array_from_file(\n\u001b[1;32m    392\u001b[0m             \u001b[38;5;28mself\u001b[39m\u001b[38;5;241m.\u001b[39m_shape,\n\u001b[1;32m    393\u001b[0m             \u001b[38;5;28mself\u001b[39m\u001b[38;5;241m.\u001b[39m_dtype,\n\u001b[0;32m   (...)\u001b[0m\n\u001b[1;32m    397\u001b[0m             mmap\u001b[38;5;241m=\u001b[39m\u001b[38;5;28mself\u001b[39m\u001b[38;5;241m.\u001b[39m_mmap,\n\u001b[1;32m    398\u001b[0m         )\n\u001b[1;32m    399\u001b[0m \u001b[38;5;28;01mwith\u001b[39;00m \u001b[38;5;28mself\u001b[39m\u001b[38;5;241m.\u001b[39m_get_fileobj() \u001b[38;5;28;01mas\u001b[39;00m fileobj:\n\u001b[0;32m--> 400\u001b[0m     \u001b[38;5;28;01mreturn\u001b[39;00m \u001b[43mfileslice\u001b[49m\u001b[43m(\u001b[49m\n\u001b[1;32m    401\u001b[0m \u001b[43m        \u001b[49m\u001b[43mfileobj\u001b[49m\u001b[43m,\u001b[49m\n\u001b[1;32m    402\u001b[0m \u001b[43m        \u001b[49m\u001b[43mslicer\u001b[49m\u001b[43m,\u001b[49m\n\u001b[1;32m    403\u001b[0m \u001b[43m        \u001b[49m\u001b[38;5;28;43mself\u001b[39;49m\u001b[38;5;241;43m.\u001b[39;49m\u001b[43m_shape\u001b[49m\u001b[43m,\u001b[49m\n\u001b[1;32m    404\u001b[0m \u001b[43m        \u001b[49m\u001b[38;5;28;43mself\u001b[39;49m\u001b[38;5;241;43m.\u001b[39;49m\u001b[43m_dtype\u001b[49m\u001b[43m,\u001b[49m\n\u001b[1;32m    405\u001b[0m \u001b[43m        \u001b[49m\u001b[38;5;28;43mself\u001b[39;49m\u001b[38;5;241;43m.\u001b[39;49m\u001b[43m_offset\u001b[49m\u001b[43m,\u001b[49m\n\u001b[1;32m    406\u001b[0m \u001b[43m        \u001b[49m\u001b[43morder\u001b[49m\u001b[38;5;241;43m=\u001b[39;49m\u001b[38;5;28;43mself\u001b[39;49m\u001b[38;5;241;43m.\u001b[39;49m\u001b[43morder\u001b[49m\u001b[43m,\u001b[49m\n\u001b[1;32m    407\u001b[0m \u001b[43m        \u001b[49m\u001b[43mlock\u001b[49m\u001b[38;5;241;43m=\u001b[39;49m\u001b[38;5;28;43mself\u001b[39;49m\u001b[38;5;241;43m.\u001b[39;49m\u001b[43m_lock\u001b[49m\u001b[43m,\u001b[49m\n\u001b[1;32m    408\u001b[0m \u001b[43m    \u001b[49m\u001b[43m)\u001b[49m\n",
      "File \u001b[0;32m/srv/conda/envs/notebook/lib/python3.11/site-packages/nibabel/fileslice.py:780\u001b[0m, in \u001b[0;36mfileslice\u001b[0;34m(fileobj, sliceobj, shape, dtype, offset, order, heuristic, lock)\u001b[0m\n\u001b[1;32m    778\u001b[0m segments, sliced_shape, post_slicers \u001b[38;5;241m=\u001b[39m calc_slicedefs(sliceobj, shape, itemsize, offset, order)\n\u001b[1;32m    779\u001b[0m n_bytes \u001b[38;5;241m=\u001b[39m reduce(operator\u001b[38;5;241m.\u001b[39mmul, sliced_shape, \u001b[38;5;241m1\u001b[39m) \u001b[38;5;241m*\u001b[39m itemsize\n\u001b[0;32m--> 780\u001b[0m arr_data \u001b[38;5;241m=\u001b[39m \u001b[43mread_segments\u001b[49m\u001b[43m(\u001b[49m\u001b[43mfileobj\u001b[49m\u001b[43m,\u001b[49m\u001b[43m \u001b[49m\u001b[43msegments\u001b[49m\u001b[43m,\u001b[49m\u001b[43m \u001b[49m\u001b[43mn_bytes\u001b[49m\u001b[43m,\u001b[49m\u001b[43m \u001b[49m\u001b[43mlock\u001b[49m\u001b[43m)\u001b[49m\n\u001b[1;32m    781\u001b[0m sliced \u001b[38;5;241m=\u001b[39m np\u001b[38;5;241m.\u001b[39mndarray(sliced_shape, dtype, buffer\u001b[38;5;241m=\u001b[39marr_data, order\u001b[38;5;241m=\u001b[39morder)\n\u001b[1;32m    782\u001b[0m \u001b[38;5;28;01mreturn\u001b[39;00m sliced[post_slicers]\n",
      "File \u001b[0;32m/srv/conda/envs/notebook/lib/python3.11/site-packages/nibabel/fileslice.py:678\u001b[0m, in \u001b[0;36mread_segments\u001b[0;34m(fileobj, segments, n_bytes, lock)\u001b[0m\n\u001b[1;32m    676\u001b[0m \u001b[38;5;28;01mfor\u001b[39;00m offset, length \u001b[38;5;129;01min\u001b[39;00m segments:\n\u001b[1;32m    677\u001b[0m     \u001b[38;5;28;01mwith\u001b[39;00m lock:\n\u001b[0;32m--> 678\u001b[0m         \u001b[43mfileobj\u001b[49m\u001b[38;5;241;43m.\u001b[39;49m\u001b[43mseek\u001b[49m\u001b[43m(\u001b[49m\u001b[43moffset\u001b[49m\u001b[43m)\u001b[49m\n\u001b[1;32m    679\u001b[0m         \u001b[38;5;28mbytes\u001b[39m\u001b[38;5;241m.\u001b[39mwrite(fileobj\u001b[38;5;241m.\u001b[39mread(length))\n\u001b[1;32m    680\u001b[0m \u001b[38;5;28;01mif\u001b[39;00m \u001b[38;5;28mbytes\u001b[39m\u001b[38;5;241m.\u001b[39mtell() \u001b[38;5;241m!=\u001b[39m n_bytes:\n",
      "File \u001b[0;32m/srv/conda/envs/notebook/lib/python3.11/site-packages/nibabel/openers.py:234\u001b[0m, in \u001b[0;36mOpener.seek\u001b[0;34m(self, pos, whence)\u001b[0m\n\u001b[1;32m    233\u001b[0m \u001b[38;5;28;01mdef\u001b[39;00m\u001b[38;5;250m \u001b[39m\u001b[38;5;21mseek\u001b[39m(\u001b[38;5;28mself\u001b[39m, pos: \u001b[38;5;28mint\u001b[39m, whence: \u001b[38;5;28mint\u001b[39m \u001b[38;5;241m=\u001b[39m \u001b[38;5;241m0\u001b[39m, \u001b[38;5;241m/\u001b[39m) \u001b[38;5;241m-\u001b[39m\u001b[38;5;241m>\u001b[39m \u001b[38;5;28mint\u001b[39m:\n\u001b[0;32m--> 234\u001b[0m     \u001b[38;5;28;01mreturn\u001b[39;00m \u001b[38;5;28;43mself\u001b[39;49m\u001b[38;5;241;43m.\u001b[39;49m\u001b[43mfobj\u001b[49m\u001b[38;5;241;43m.\u001b[39;49m\u001b[43mseek\u001b[49m\u001b[43m(\u001b[49m\u001b[43mpos\u001b[49m\u001b[43m,\u001b[49m\u001b[43m \u001b[49m\u001b[43mwhence\u001b[49m\u001b[43m)\u001b[49m\n",
      "File \u001b[0;32m/srv/conda/envs/notebook/lib/python3.11/gzip.py:393\u001b[0m, in \u001b[0;36mGzipFile.seek\u001b[0;34m(self, offset, whence)\u001b[0m\n\u001b[1;32m    391\u001b[0m \u001b[38;5;28;01melif\u001b[39;00m \u001b[38;5;28mself\u001b[39m\u001b[38;5;241m.\u001b[39mmode \u001b[38;5;241m==\u001b[39m READ:\n\u001b[1;32m    392\u001b[0m     \u001b[38;5;28mself\u001b[39m\u001b[38;5;241m.\u001b[39m_check_not_closed()\n\u001b[0;32m--> 393\u001b[0m     \u001b[38;5;28;01mreturn\u001b[39;00m \u001b[38;5;28mself\u001b[39m\u001b[38;5;241m.\u001b[39m_buffer\u001b[38;5;241m.\u001b[39mseek(offset, whence)\n\u001b[1;32m    395\u001b[0m \u001b[38;5;28;01mreturn\u001b[39;00m \u001b[38;5;28mself\u001b[39m\u001b[38;5;241m.\u001b[39moffset\n",
      "File \u001b[0;32m/srv/conda/envs/notebook/lib/python3.11/_compression.py:153\u001b[0m, in \u001b[0;36mDecompressReader.seek\u001b[0;34m(self, offset, whence)\u001b[0m\n\u001b[1;32m    151\u001b[0m \u001b[38;5;66;03m# Read and discard data until we reach the desired position.\u001b[39;00m\n\u001b[1;32m    152\u001b[0m \u001b[38;5;28;01mwhile\u001b[39;00m offset \u001b[38;5;241m>\u001b[39m \u001b[38;5;241m0\u001b[39m:\n\u001b[0;32m--> 153\u001b[0m     data \u001b[38;5;241m=\u001b[39m \u001b[38;5;28;43mself\u001b[39;49m\u001b[38;5;241;43m.\u001b[39;49m\u001b[43mread\u001b[49m\u001b[43m(\u001b[49m\u001b[38;5;28;43mmin\u001b[39;49m\u001b[43m(\u001b[49m\u001b[43mio\u001b[49m\u001b[38;5;241;43m.\u001b[39;49m\u001b[43mDEFAULT_BUFFER_SIZE\u001b[49m\u001b[43m,\u001b[49m\u001b[43m \u001b[49m\u001b[43moffset\u001b[49m\u001b[43m)\u001b[49m\u001b[43m)\u001b[49m\n\u001b[1;32m    154\u001b[0m     \u001b[38;5;28;01mif\u001b[39;00m \u001b[38;5;129;01mnot\u001b[39;00m data:\n\u001b[1;32m    155\u001b[0m         \u001b[38;5;28;01mbreak\u001b[39;00m\n",
      "File \u001b[0;32m/srv/conda/envs/notebook/lib/python3.11/gzip.py:521\u001b[0m, in \u001b[0;36m_GzipReader.read\u001b[0;34m(self, size)\u001b[0m\n\u001b[1;32m    517\u001b[0m     \u001b[38;5;28;01mif\u001b[39;00m buf \u001b[38;5;241m==\u001b[39m \u001b[38;5;124mb\u001b[39m\u001b[38;5;124m\"\u001b[39m\u001b[38;5;124m\"\u001b[39m:\n\u001b[1;32m    518\u001b[0m         \u001b[38;5;28;01mraise\u001b[39;00m \u001b[38;5;167;01mEOFError\u001b[39;00m(\u001b[38;5;124m\"\u001b[39m\u001b[38;5;124mCompressed file ended before the \u001b[39m\u001b[38;5;124m\"\u001b[39m\n\u001b[1;32m    519\u001b[0m                        \u001b[38;5;124m\"\u001b[39m\u001b[38;5;124mend-of-stream marker was reached\u001b[39m\u001b[38;5;124m\"\u001b[39m)\n\u001b[0;32m--> 521\u001b[0m \u001b[38;5;28;43mself\u001b[39;49m\u001b[38;5;241;43m.\u001b[39;49m\u001b[43m_add_read_data\u001b[49m\u001b[43m(\u001b[49m\u001b[43m \u001b[49m\u001b[43muncompress\u001b[49m\u001b[43m \u001b[49m\u001b[43m)\u001b[49m\n\u001b[1;32m    522\u001b[0m \u001b[38;5;28mself\u001b[39m\u001b[38;5;241m.\u001b[39m_pos \u001b[38;5;241m+\u001b[39m\u001b[38;5;241m=\u001b[39m \u001b[38;5;28mlen\u001b[39m(uncompress)\n\u001b[1;32m    523\u001b[0m \u001b[38;5;28;01mreturn\u001b[39;00m uncompress\n",
      "File \u001b[0;32m/srv/conda/envs/notebook/lib/python3.11/gzip.py:526\u001b[0m, in \u001b[0;36m_GzipReader._add_read_data\u001b[0;34m(self, data)\u001b[0m\n\u001b[1;32m    525\u001b[0m \u001b[38;5;28;01mdef\u001b[39;00m\u001b[38;5;250m \u001b[39m\u001b[38;5;21m_add_read_data\u001b[39m(\u001b[38;5;28mself\u001b[39m, data):\n\u001b[0;32m--> 526\u001b[0m     \u001b[38;5;28mself\u001b[39m\u001b[38;5;241m.\u001b[39m_crc \u001b[38;5;241m=\u001b[39m zlib\u001b[38;5;241m.\u001b[39mcrc32(data, \u001b[38;5;28mself\u001b[39m\u001b[38;5;241m.\u001b[39m_crc)\n\u001b[1;32m    527\u001b[0m     \u001b[38;5;28mself\u001b[39m\u001b[38;5;241m.\u001b[39m_stream_size \u001b[38;5;241m=\u001b[39m \u001b[38;5;28mself\u001b[39m\u001b[38;5;241m.\u001b[39m_stream_size \u001b[38;5;241m+\u001b[39m \u001b[38;5;28mlen\u001b[39m(data)\n",
      "\u001b[0;31mKeyboardInterrupt\u001b[0m: "
     ]
    }
   ],
   "source": [
    "mtl_mask = mtl_mask_img.get_fdata(dtype = np.float32, caching = 'unchanged')\n",
    "\n",
    "#getting vectorized non-zero roi boolean mask volume from mtl mask \n",
    "\n",
    "mtl_mask_volume = mtl_mask > 0 #same shape as spatial dims\n",
    "\n",
    "x_idx, y_idx, z_idx = np.where(mtl_mask_volume)\n",
    "mtl_betas_list = []\n",
    "\n",
    "for x, y, z in zip(x_idx, y_idx, z_idx):\n",
    "    voxel_data = np.asarray(betas_proxy[x, y, z, :], dtype = np.float32) / 300.0\n",
    "    mtl_betas_list.append(voxel_data)\n",
    "\n",
    "mtl_betas = np.stack(mtl_betas_list, axis = 1) # shape: trial x voxels for intuitive analysis\n"
   ]
  },
  {
   "cell_type": "code",
   "execution_count": null,
   "id": "dfaf1f21-1943-4455-a7b2-10fbb8c6f37f",
   "metadata": {},
   "outputs": [],
   "source": [
    "import h5py\n",
    "\n",
    "#Save to combined h5 - create once and keep appending\n",
    "hdf5_path = cache_path / \"all_subjects_mtl_betas.h5\"\n",
    "hdf5_path.mkdir(exist_ok = True)\n",
    "\n",
    "with h5py.File(hdf5_path, 'a') as hf:\n",
    "    subj_group = h5.require_group(f\"subj{subject:02d}\")\n",
    "\n",
    "    #overwrite session dataset if it exists to avoid error\n",
    "    if f\"session{session:02d}\" in subj_group:\n",
    "        del subj_group[f\"session{session:02d}\"]\n",
    "\n",
    "    subj_group.create_dataset(f\"session{session:02d}\", data = mtl_betas, compression = 'gzip')"
   ]
  },
  {
   "cell_type": "code",
   "execution_count": 1,
   "id": "dc3da0cc-8d9c-4231-8744-0e43d60176bc",
   "metadata": {},
   "outputs": [
    {
     "data": {
      "text/plain": [
       "37"
      ]
     },
     "execution_count": 1,
     "metadata": {},
     "output_type": "execute_result"
    }
   ],
   "source": [
    "import gc\n",
    "gc.collect()"
   ]
  },
  {
   "cell_type": "code",
   "execution_count": null,
   "id": "28a7edd5-88e6-4c64-90e0-7114b7aa7ab2",
   "metadata": {},
   "outputs": [],
   "source": []
  },
  {
   "cell_type": "code",
   "execution_count": null,
   "id": "01c21ff9-b4d7-4f18-af83-d089f9bc3b2a",
   "metadata": {},
   "outputs": [],
   "source": []
  }
 ],
 "metadata": {
  "kernelspec": {
   "display_name": "Python 3 (ipykernel)",
   "language": "python",
   "name": "python3"
  },
  "language_info": {
   "codemirror_mode": {
    "name": "ipython",
    "version": 3
   },
   "file_extension": ".py",
   "mimetype": "text/x-python",
   "name": "python",
   "nbconvert_exporter": "python",
   "pygments_lexer": "ipython3",
   "version": "3.11.11"
  }
 },
 "nbformat": 4,
 "nbformat_minor": 5
}
