{
 "cells": [
  {
   "cell_type": "code",
   "execution_count": null,
   "id": "33fd54cf-7f24-4aa3-86e8-31b45559fd6f",
   "metadata": {},
   "outputs": [
    {
     "name": "stdout",
     "output_type": "stream",
     "text": [
      " Loaded MTL mask for subj01: (145, 186, 148), voxels: 15410\n"
     ]
    }
   ],
   "source": [
    "import numpy as np\n",
    "import nibabel as nib\n",
    "from cloudpathlib import CloudPath, S3Client\n",
    "from pathlib import Path\n",
    "import os\n",
    "import gc\n",
    "\n",
    "# Configuration\n",
    "CACHE_DIR = \"/home/jovyan/cache/\"\n",
    "RESOLUTION = \"func1mm\"\n",
    "SUBJ_NUM = 1\n",
    "SESSION_NUM = 1\n",
    "\n",
    "subj_id = f\"subj{SUBJ_NUM:02d}\"\n",
    "cp = CloudPath('s3://natural-scenes-dataset/', S3Client(no_sign_request=True, local_cache_dir=CACHE_DIR))\n",
    "output_dir = Path(CACHE_DIR) / \"MTL_betas\" / subj_id\n",
    "output_dir.mkdir(parents=True, exist_ok=True)\n",
    "\n",
    "# Load MTL mask once\n",
    "mask_path = cp / f\"nsddata/ppdata/{subj_id}/{RESOLUTION}/roi/MTL.nii.gz\"\n",
    "mtl_mask_img = nib.load(mask_path.fspath)\n",
    "mtl_mask = mtl_mask_img.get_fdata().astype(bool)\n",
    "print(f\" Loaded MTL mask for {subj_id}: {mtl_mask.shape}, voxels: {np.sum(mtl_mask)}\")\n",
    "\n",
    "# Load beta image (1 session only)\n",
    "beta_path = cp / f\"nsddata_betas/ppdata/{subj_id}/{RESOLUTION}/betas_fithrf_GLMdenoise_RR/betas_session{SESSION_NUM:02d}.nii.gz\"\n",
    "\n",
    "if beta_path.exists():\n",
    "    try:\n",
    "        beta_img = nib.load(beta_path.fspath, mmap=True)\n",
    "        data = beta_img.get_fdata(dtype=np.float32)  # (x, y, z, trials)\n",
    "        affine = beta_img.affine\n",
    "        header = beta_img.header\n",
    "\n",
    "        print(f\" Loaded beta image for session {SESSION_NUM:02d}: {data.shape}\")\n",
    "\n",
    "        # Apply mask to each trial\n",
    "        masked_data = np.zeros_like(data, dtype=np.float32)\n",
    "        masked_data[mtl_mask, :] = data[mtl_mask, :]\n",
    "\n",
    "        # Save masked data\n",
    "        masked_img = nib.Nifti1Image(masked_data, affine, header)\n",
    "        save_path = output_dir / f\"{subj_id}_session{SESSION_NUM:02d}_mtl_betas.nii.gz\"\n",
    "        nib.save(masked_img, save_path)\n",
    "\n",
    "        print(f\" Saved MTL-masked betas to: {save_path}\")\n",
    "\n",
    "        # Cleanup\n",
    "        del data, masked_data, beta_img, masked_img\n",
    "        gc.collect()\n",
    "\n",
    "    except Exception as e:\n",
    "        print(f\" Failed to process session {SESSION_NUM:02d}: {e}\")\n",
    "else:\n",
    "    print(f\" Beta file for session {SESSION_NUM:02d} not found.\")\n"
   ]
  }
 ],
 "metadata": {
  "kernelspec": {
   "display_name": "Python 3 (ipykernel)",
   "language": "python",
   "name": "python3"
  },
  "language_info": {
   "codemirror_mode": {
    "name": "ipython",
    "version": 3
   },
   "file_extension": ".py",
   "mimetype": "text/x-python",
   "name": "python",
   "nbconvert_exporter": "python",
   "pygments_lexer": "ipython3",
   "version": "3.11.11"
  }
 },
 "nbformat": 4,
 "nbformat_minor": 5
}
